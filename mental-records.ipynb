{
 "cells": [
  {
   "cell_type": "code",
   "execution_count": 3,
   "id": "0fcb7ec5",
   "metadata": {
    "collapsed": true
   },
   "outputs": [
    {
     "name": "stdout",
     "output_type": "stream",
     "text": [
      "Requirement already satisfied: tensorflow in e:\\prerna-dhi_webwar\\main-project\\health\\lib\\site-packages (2.13.0)\n",
      "Requirement already satisfied: tensorflow-intel==2.13.0 in e:\\prerna-dhi_webwar\\main-project\\health\\lib\\site-packages (from tensorflow) (2.13.0)\n",
      "Requirement already satisfied: absl-py>=1.0.0 in e:\\prerna-dhi_webwar\\main-project\\health\\lib\\site-packages (from tensorflow-intel==2.13.0->tensorflow) (1.4.0)\n",
      "Requirement already satisfied: astunparse>=1.6.0 in e:\\prerna-dhi_webwar\\main-project\\health\\lib\\site-packages (from tensorflow-intel==2.13.0->tensorflow) (1.6.3)\n",
      "Requirement already satisfied: flatbuffers>=23.1.21 in e:\\prerna-dhi_webwar\\main-project\\health\\lib\\site-packages (from tensorflow-intel==2.13.0->tensorflow) (23.5.26)\n",
      "Requirement already satisfied: gast<=0.4.0,>=0.2.1 in e:\\prerna-dhi_webwar\\main-project\\health\\lib\\site-packages (from tensorflow-intel==2.13.0->tensorflow) (0.4.0)\n",
      "Requirement already satisfied: google-pasta>=0.1.1 in e:\\prerna-dhi_webwar\\main-project\\health\\lib\\site-packages (from tensorflow-intel==2.13.0->tensorflow) (0.2.0)\n",
      "Requirement already satisfied: h5py>=2.9.0 in e:\\prerna-dhi_webwar\\main-project\\health\\lib\\site-packages (from tensorflow-intel==2.13.0->tensorflow) (3.9.0)\n",
      "Requirement already satisfied: libclang>=13.0.0 in e:\\prerna-dhi_webwar\\main-project\\health\\lib\\site-packages (from tensorflow-intel==2.13.0->tensorflow) (16.0.6)\n",
      "Requirement already satisfied: numpy<=1.24.3,>=1.22 in e:\\prerna-dhi_webwar\\main-project\\health\\lib\\site-packages (from tensorflow-intel==2.13.0->tensorflow) (1.24.3)\n",
      "Requirement already satisfied: opt-einsum>=2.3.2 in e:\\prerna-dhi_webwar\\main-project\\health\\lib\\site-packages (from tensorflow-intel==2.13.0->tensorflow) (3.3.0)\n",
      "Requirement already satisfied: packaging in e:\\prerna-dhi_webwar\\main-project\\health\\lib\\site-packages (from tensorflow-intel==2.13.0->tensorflow) (23.1)\n",
      "Requirement already satisfied: protobuf!=4.21.0,!=4.21.1,!=4.21.2,!=4.21.3,!=4.21.4,!=4.21.5,<5.0.0dev,>=3.20.3 in e:\\prerna-dhi_webwar\\main-project\\health\\lib\\site-packages (from tensorflow-intel==2.13.0->tensorflow) (4.23.4)\n",
      "Requirement already satisfied: setuptools in e:\\prerna-dhi_webwar\\main-project\\health\\lib\\site-packages (from tensorflow-intel==2.13.0->tensorflow) (67.8.0)\n",
      "Requirement already satisfied: six>=1.12.0 in e:\\prerna-dhi_webwar\\main-project\\health\\lib\\site-packages (from tensorflow-intel==2.13.0->tensorflow) (1.16.0)\n",
      "Requirement already satisfied: termcolor>=1.1.0 in e:\\prerna-dhi_webwar\\main-project\\health\\lib\\site-packages (from tensorflow-intel==2.13.0->tensorflow) (2.3.0)\n",
      "Requirement already satisfied: typing-extensions<4.6.0,>=3.6.6 in e:\\prerna-dhi_webwar\\main-project\\health\\lib\\site-packages (from tensorflow-intel==2.13.0->tensorflow) (4.5.0)\n",
      "Requirement already satisfied: wrapt>=1.11.0 in e:\\prerna-dhi_webwar\\main-project\\health\\lib\\site-packages (from tensorflow-intel==2.13.0->tensorflow) (1.15.0)\n",
      "Requirement already satisfied: grpcio<2.0,>=1.24.3 in e:\\prerna-dhi_webwar\\main-project\\health\\lib\\site-packages (from tensorflow-intel==2.13.0->tensorflow) (1.56.0)\n",
      "Requirement already satisfied: tensorboard<2.14,>=2.13 in e:\\prerna-dhi_webwar\\main-project\\health\\lib\\site-packages (from tensorflow-intel==2.13.0->tensorflow) (2.13.0)\n",
      "Requirement already satisfied: tensorflow-estimator<2.14,>=2.13.0 in e:\\prerna-dhi_webwar\\main-project\\health\\lib\\site-packages (from tensorflow-intel==2.13.0->tensorflow) (2.13.0)\n",
      "Requirement already satisfied: keras<2.14,>=2.13.1 in e:\\prerna-dhi_webwar\\main-project\\health\\lib\\site-packages (from tensorflow-intel==2.13.0->tensorflow) (2.13.1)\n",
      "Requirement already satisfied: tensorflow-io-gcs-filesystem>=0.23.1 in e:\\prerna-dhi_webwar\\main-project\\health\\lib\\site-packages (from tensorflow-intel==2.13.0->tensorflow) (0.31.0)\n",
      "Requirement already satisfied: wheel<1.0,>=0.23.0 in e:\\prerna-dhi_webwar\\main-project\\health\\lib\\site-packages (from astunparse>=1.6.0->tensorflow-intel==2.13.0->tensorflow) (0.38.4)\n",
      "Requirement already satisfied: google-auth<3,>=1.6.3 in e:\\prerna-dhi_webwar\\main-project\\health\\lib\\site-packages (from tensorboard<2.14,>=2.13->tensorflow-intel==2.13.0->tensorflow) (2.22.0)\n",
      "Requirement already satisfied: google-auth-oauthlib<1.1,>=0.5 in e:\\prerna-dhi_webwar\\main-project\\health\\lib\\site-packages (from tensorboard<2.14,>=2.13->tensorflow-intel==2.13.0->tensorflow) (1.0.0)\n",
      "Requirement already satisfied: markdown>=2.6.8 in e:\\prerna-dhi_webwar\\main-project\\health\\lib\\site-packages (from tensorboard<2.14,>=2.13->tensorflow-intel==2.13.0->tensorflow) (3.4.3)\n",
      "Requirement already satisfied: requests<3,>=2.21.0 in e:\\prerna-dhi_webwar\\main-project\\health\\lib\\site-packages (from tensorboard<2.14,>=2.13->tensorflow-intel==2.13.0->tensorflow) (2.31.0)\n",
      "Requirement already satisfied: tensorboard-data-server<0.8.0,>=0.7.0 in e:\\prerna-dhi_webwar\\main-project\\health\\lib\\site-packages (from tensorboard<2.14,>=2.13->tensorflow-intel==2.13.0->tensorflow) (0.7.1)\n",
      "Requirement already satisfied: werkzeug>=1.0.1 in e:\\prerna-dhi_webwar\\main-project\\health\\lib\\site-packages (from tensorboard<2.14,>=2.13->tensorflow-intel==2.13.0->tensorflow) (2.3.6)\n",
      "Requirement already satisfied: cachetools<6.0,>=2.0.0 in e:\\prerna-dhi_webwar\\main-project\\health\\lib\\site-packages (from google-auth<3,>=1.6.3->tensorboard<2.14,>=2.13->tensorflow-intel==2.13.0->tensorflow) (5.3.1)\n",
      "Requirement already satisfied: pyasn1-modules>=0.2.1 in e:\\prerna-dhi_webwar\\main-project\\health\\lib\\site-packages (from google-auth<3,>=1.6.3->tensorboard<2.14,>=2.13->tensorflow-intel==2.13.0->tensorflow) (0.3.0)\n",
      "Requirement already satisfied: rsa<5,>=3.1.4 in e:\\prerna-dhi_webwar\\main-project\\health\\lib\\site-packages (from google-auth<3,>=1.6.3->tensorboard<2.14,>=2.13->tensorflow-intel==2.13.0->tensorflow) (4.9)\n",
      "Requirement already satisfied: urllib3<2.0 in e:\\prerna-dhi_webwar\\main-project\\health\\lib\\site-packages (from google-auth<3,>=1.6.3->tensorboard<2.14,>=2.13->tensorflow-intel==2.13.0->tensorflow) (1.26.16)\n",
      "Requirement already satisfied: requests-oauthlib>=0.7.0 in e:\\prerna-dhi_webwar\\main-project\\health\\lib\\site-packages (from google-auth-oauthlib<1.1,>=0.5->tensorboard<2.14,>=2.13->tensorflow-intel==2.13.0->tensorflow) (1.3.1)\n",
      "Requirement already satisfied: importlib-metadata>=4.4 in e:\\prerna-dhi_webwar\\main-project\\health\\lib\\site-packages (from markdown>=2.6.8->tensorboard<2.14,>=2.13->tensorflow-intel==2.13.0->tensorflow) (6.8.0)\n",
      "Requirement already satisfied: charset-normalizer<4,>=2 in e:\\prerna-dhi_webwar\\main-project\\health\\lib\\site-packages (from requests<3,>=2.21.0->tensorboard<2.14,>=2.13->tensorflow-intel==2.13.0->tensorflow) (3.2.0)\n",
      "Requirement already satisfied: idna<4,>=2.5 in e:\\prerna-dhi_webwar\\main-project\\health\\lib\\site-packages (from requests<3,>=2.21.0->tensorboard<2.14,>=2.13->tensorflow-intel==2.13.0->tensorflow) (3.4)\n",
      "Requirement already satisfied: certifi>=2017.4.17 in e:\\prerna-dhi_webwar\\main-project\\health\\lib\\site-packages (from requests<3,>=2.21.0->tensorboard<2.14,>=2.13->tensorflow-intel==2.13.0->tensorflow) (2023.5.7)\n",
      "Requirement already satisfied: MarkupSafe>=2.1.1 in e:\\prerna-dhi_webwar\\main-project\\health\\lib\\site-packages (from werkzeug>=1.0.1->tensorboard<2.14,>=2.13->tensorflow-intel==2.13.0->tensorflow) (2.1.3)\n",
      "Requirement already satisfied: zipp>=0.5 in e:\\prerna-dhi_webwar\\main-project\\health\\lib\\site-packages (from importlib-metadata>=4.4->markdown>=2.6.8->tensorboard<2.14,>=2.13->tensorflow-intel==2.13.0->tensorflow) (3.16.2)\n",
      "Requirement already satisfied: pyasn1<0.6.0,>=0.4.6 in e:\\prerna-dhi_webwar\\main-project\\health\\lib\\site-packages (from pyasn1-modules>=0.2.1->google-auth<3,>=1.6.3->tensorboard<2.14,>=2.13->tensorflow-intel==2.13.0->tensorflow) (0.5.0)\n",
      "Requirement already satisfied: oauthlib>=3.0.0 in e:\\prerna-dhi_webwar\\main-project\\health\\lib\\site-packages (from requests-oauthlib>=0.7.0->google-auth-oauthlib<1.1,>=0.5->tensorboard<2.14,>=2.13->tensorflow-intel==2.13.0->tensorflow) (3.2.2)\n"
     ]
    }
   ],
   "source": [
    "!pip install tensorflow"
   ]
  },
  {
   "cell_type": "code",
   "execution_count": 4,
   "id": "79c9f84b",
   "metadata": {},
   "outputs": [
    {
     "data": {
      "text/plain": [
       "'import urllib.request\\nimport urllib.error'"
      ]
     },
     "execution_count": 4,
     "metadata": {},
     "output_type": "execute_result"
    }
   ],
   "source": [
    "\n",
    "import pandas as pd\n",
    "import numpy as np\n",
    "import tensorflow as tf\n",
    "import matplotlib.pyplot as plt\n",
    "import seaborn as sns\n",
    "import plotly.express as px\n",
    "import warnings\n",
    "import requests\n",
    "from six.moves import urllib\n",
    "\n",
    "warnings.filterwarnings(\"ignore\")\n",
    "\n",
    "%matplotlib inline\n",
    "'''import urllib.request\n",
    "import urllib.error'''"
   ]
  },
  {
   "cell_type": "code",
   "execution_count": 5,
   "id": "c55e6843",
   "metadata": {},
   "outputs": [],
   "source": [
    "df=pd.read_csv('medical_records.csv')"
   ]
  },
  {
   "cell_type": "code",
   "execution_count": 4,
   "id": "7a8004d5",
   "metadata": {},
   "outputs": [
    {
     "ename": "SyntaxError",
     "evalue": "(unicode error) 'unicodeescape' codec can't decode bytes in position 126-127: malformed \\N character escape (2261230496.py, line 10)",
     "output_type": "error",
     "traceback": [
      "\u001b[1;36m  Cell \u001b[1;32mIn[4], line 10\u001b[1;36m\u001b[0m\n\u001b[1;33m    print(download_file_path)'''\u001b[0m\n\u001b[1;37m                                ^\u001b[0m\n\u001b[1;31mSyntaxError\u001b[0m\u001b[1;31m:\u001b[0m (unicode error) 'unicodeescape' codec can't decode bytes in position 126-127: malformed \\N character escape\n"
     ]
    }
   ],
   "source": [
    "'''\n",
    "#df = pd.read_csv('medical_records.csv')\n",
    "import os\n",
    "download_dir=\"./Dataset/\"\n",
    "download_url=r\"E:\\prerna-DHI_webwar\\Main-project\\Notebook\\Dataset\"\n",
    "os.makedirs(download_dir,exist_ok=True)\n",
    "filename=os.path.basename(download_url)\n",
    "download_file_path=os.path.join(download_dir,filename)\n",
    "print(filename)\n",
    "print(download_file_path)'''"
   ]
  },
  {
   "cell_type": "code",
   "execution_count": 6,
   "id": "aeea5c43",
   "metadata": {},
   "outputs": [
    {
     "data": {
      "text/html": [
       "<div>\n",
       "<style scoped>\n",
       "    .dataframe tbody tr th:only-of-type {\n",
       "        vertical-align: middle;\n",
       "    }\n",
       "\n",
       "    .dataframe tbody tr th {\n",
       "        vertical-align: top;\n",
       "    }\n",
       "\n",
       "    .dataframe thead th {\n",
       "        text-align: right;\n",
       "    }\n",
       "</style>\n",
       "<table border=\"1\" class=\"dataframe\">\n",
       "  <thead>\n",
       "    <tr style=\"text-align: right;\">\n",
       "      <th></th>\n",
       "      <th>patient_id</th>\n",
       "      <th>name</th>\n",
       "      <th>date_of_birth</th>\n",
       "      <th>gender</th>\n",
       "      <th>medical_conditions</th>\n",
       "      <th>medications</th>\n",
       "      <th>allergies</th>\n",
       "      <th>last_appointment_date</th>\n",
       "    </tr>\n",
       "  </thead>\n",
       "  <tbody>\n",
       "    <tr>\n",
       "      <th>0</th>\n",
       "      <td>1</td>\n",
       "      <td>Scott Webb</td>\n",
       "      <td>1967-04-28</td>\n",
       "      <td>F</td>\n",
       "      <td>Mrs, story, security</td>\n",
       "      <td>example, parent, city</td>\n",
       "      <td>each, product, two</td>\n",
       "      <td>2022-07-26</td>\n",
       "    </tr>\n",
       "    <tr>\n",
       "      <th>1</th>\n",
       "      <td>2</td>\n",
       "      <td>Rachel Frederick</td>\n",
       "      <td>1977-04-04</td>\n",
       "      <td>M</td>\n",
       "      <td>performance, participant, surface</td>\n",
       "      <td>be, develop, guy</td>\n",
       "      <td>north, hospital, international</td>\n",
       "      <td>2023-02-14</td>\n",
       "    </tr>\n",
       "    <tr>\n",
       "      <th>2</th>\n",
       "      <td>3</td>\n",
       "      <td>Eric Kline</td>\n",
       "      <td>1926-05-18</td>\n",
       "      <td>F</td>\n",
       "      <td>quite, about, international</td>\n",
       "      <td>station, situation, popular</td>\n",
       "      <td>tree, other, at</td>\n",
       "      <td>2021-04-24</td>\n",
       "    </tr>\n",
       "    <tr>\n",
       "      <th>3</th>\n",
       "      <td>4</td>\n",
       "      <td>James Rodriguez</td>\n",
       "      <td>1954-07-20</td>\n",
       "      <td>M</td>\n",
       "      <td>him, sea, television</td>\n",
       "      <td>about, item, often</td>\n",
       "      <td>discuss, play, somebody</td>\n",
       "      <td>2022-05-26</td>\n",
       "    </tr>\n",
       "    <tr>\n",
       "      <th>4</th>\n",
       "      <td>5</td>\n",
       "      <td>David Scott</td>\n",
       "      <td>2015-12-07</td>\n",
       "      <td>M</td>\n",
       "      <td>make, moment, physical</td>\n",
       "      <td>deep, letter, difference</td>\n",
       "      <td>because, true, blood</td>\n",
       "      <td>2021-05-17</td>\n",
       "    </tr>\n",
       "  </tbody>\n",
       "</table>\n",
       "</div>"
      ],
      "text/plain": [
       "   patient_id              name date_of_birth gender  \\\n",
       "0           1        Scott Webb    1967-04-28      F   \n",
       "1           2  Rachel Frederick    1977-04-04      M   \n",
       "2           3        Eric Kline    1926-05-18      F   \n",
       "3           4   James Rodriguez    1954-07-20      M   \n",
       "4           5       David Scott    2015-12-07      M   \n",
       "\n",
       "                  medical_conditions                  medications  \\\n",
       "0               Mrs, story, security        example, parent, city   \n",
       "1  performance, participant, surface             be, develop, guy   \n",
       "2        quite, about, international  station, situation, popular   \n",
       "3               him, sea, television           about, item, often   \n",
       "4             make, moment, physical     deep, letter, difference   \n",
       "\n",
       "                        allergies last_appointment_date  \n",
       "0              each, product, two            2022-07-26  \n",
       "1  north, hospital, international            2023-02-14  \n",
       "2                 tree, other, at            2021-04-24  \n",
       "3         discuss, play, somebody            2022-05-26  \n",
       "4            because, true, blood            2021-05-17  "
      ]
     },
     "execution_count": 6,
     "metadata": {},
     "output_type": "execute_result"
    }
   ],
   "source": [
    "df.head()"
   ]
  },
  {
   "cell_type": "code",
   "execution_count": 7,
   "id": "5db5825e",
   "metadata": {},
   "outputs": [
    {
     "data": {
      "text/plain": [
       "(100000, 8)"
      ]
     },
     "execution_count": 7,
     "metadata": {},
     "output_type": "execute_result"
    }
   ],
   "source": [
    "df.shape"
   ]
  },
  {
   "cell_type": "code",
   "execution_count": 8,
   "id": "150272e8",
   "metadata": {},
   "outputs": [
    {
     "data": {
      "text/html": [
       "<div>\n",
       "<style scoped>\n",
       "    .dataframe tbody tr th:only-of-type {\n",
       "        vertical-align: middle;\n",
       "    }\n",
       "\n",
       "    .dataframe tbody tr th {\n",
       "        vertical-align: top;\n",
       "    }\n",
       "\n",
       "    .dataframe thead th {\n",
       "        text-align: right;\n",
       "    }\n",
       "</style>\n",
       "<table border=\"1\" class=\"dataframe\">\n",
       "  <thead>\n",
       "    <tr style=\"text-align: right;\">\n",
       "      <th></th>\n",
       "      <th>patient_id</th>\n",
       "    </tr>\n",
       "  </thead>\n",
       "  <tbody>\n",
       "    <tr>\n",
       "      <th>count</th>\n",
       "      <td>100000.000000</td>\n",
       "    </tr>\n",
       "    <tr>\n",
       "      <th>mean</th>\n",
       "      <td>50000.500000</td>\n",
       "    </tr>\n",
       "    <tr>\n",
       "      <th>std</th>\n",
       "      <td>28867.657797</td>\n",
       "    </tr>\n",
       "    <tr>\n",
       "      <th>min</th>\n",
       "      <td>1.000000</td>\n",
       "    </tr>\n",
       "    <tr>\n",
       "      <th>25%</th>\n",
       "      <td>25000.750000</td>\n",
       "    </tr>\n",
       "    <tr>\n",
       "      <th>50%</th>\n",
       "      <td>50000.500000</td>\n",
       "    </tr>\n",
       "    <tr>\n",
       "      <th>75%</th>\n",
       "      <td>75000.250000</td>\n",
       "    </tr>\n",
       "    <tr>\n",
       "      <th>max</th>\n",
       "      <td>100000.000000</td>\n",
       "    </tr>\n",
       "  </tbody>\n",
       "</table>\n",
       "</div>"
      ],
      "text/plain": [
       "          patient_id\n",
       "count  100000.000000\n",
       "mean    50000.500000\n",
       "std     28867.657797\n",
       "min         1.000000\n",
       "25%     25000.750000\n",
       "50%     50000.500000\n",
       "75%     75000.250000\n",
       "max    100000.000000"
      ]
     },
     "execution_count": 8,
     "metadata": {},
     "output_type": "execute_result"
    }
   ],
   "source": [
    "df.describe()"
   ]
  },
  {
   "cell_type": "code",
   "execution_count": 9,
   "id": "1f54a9f6",
   "metadata": {},
   "outputs": [
    {
     "name": "stdout",
     "output_type": "stream",
     "text": [
      "<class 'pandas.core.frame.DataFrame'>\n",
      "RangeIndex: 100000 entries, 0 to 99999\n",
      "Data columns (total 8 columns):\n",
      " #   Column                 Non-Null Count   Dtype \n",
      "---  ------                 --------------   ----- \n",
      " 0   patient_id             100000 non-null  int64 \n",
      " 1   name                   100000 non-null  object\n",
      " 2   date_of_birth          100000 non-null  object\n",
      " 3   gender                 100000 non-null  object\n",
      " 4   medical_conditions     100000 non-null  object\n",
      " 5   medications            100000 non-null  object\n",
      " 6   allergies              100000 non-null  object\n",
      " 7   last_appointment_date  100000 non-null  object\n",
      "dtypes: int64(1), object(7)\n",
      "memory usage: 6.1+ MB\n"
     ]
    }
   ],
   "source": [
    "df.info()"
   ]
  },
  {
   "cell_type": "code",
   "execution_count": 10,
   "id": "4073368f",
   "metadata": {},
   "outputs": [
    {
     "name": "stdout",
     "output_type": "stream",
     "text": [
      "True\n",
      "True\n"
     ]
    }
   ],
   "source": [
    "print(df['patient_id'].dtype!='o')\n",
    "print(df['name'].dtype!='o')"
   ]
  },
  {
   "cell_type": "code",
   "execution_count": 11,
   "id": "2068d3b7",
   "metadata": {},
   "outputs": [
    {
     "name": "stdout",
     "output_type": "stream",
     "text": [
      "we have 8 numerical features: ['patient_id', 'name', 'date_of_birth', 'gender', 'medical_conditions', 'medications', 'allergies', 'last_appointment_date']\n",
      "we have 0 categorical features : []\n"
     ]
    }
   ],
   "source": [
    "numerical_features=[features for features in df.columns if df[features].dtype!='o']\n",
    "categorical_features=[features for features in df.columns if df[features].dtype=='o']\n",
    "print('we have {} numerical features: {}'.format(len(numerical_features),numerical_features))\n",
    "print('we have {} categorical features : {}'.format(len(categorical_features),categorical_features))"
   ]
  },
  {
   "cell_type": "code",
   "execution_count": null,
   "id": "483903cd",
   "metadata": {},
   "outputs": [],
   "source": [
    "for column in categorical_features:\n",
    "    print(df[column].value_counts(normalize=True)*100)\n",
    "    print('success')"
   ]
  },
  {
   "cell_type": "code",
   "execution_count": null,
   "id": "cf00ea45",
   "metadata": {},
   "outputs": [
    {
     "name": "stdout",
     "output_type": "stream",
     "text": [
      "1         0.001\n",
      "66651     0.001\n",
      "66673     0.001\n",
      "66672     0.001\n",
      "66671     0.001\n",
      "          ...  \n",
      "33332     0.001\n",
      "33331     0.001\n",
      "33330     0.001\n",
      "33329     0.001\n",
      "100000    0.001\n",
      "Name: patient_id, Length: 100000, dtype: float64\n",
      "success\n",
      "Michael Smith      0.048\n",
      "David Smith        0.042\n",
      "John Smith         0.037\n",
      "Michael Johnson    0.037\n",
      "Jennifer Smith     0.033\n",
      "                   ...  \n",
      "Brad Knight        0.001\n",
      "Shelby Ware        0.001\n",
      "Mr. Eric Smith     0.001\n",
      "Jesse Page         0.001\n",
      "Benjamin Lowery    0.001\n",
      "Name: name, Length: 71073, dtype: float64\n",
      "success\n",
      "1999-10-26    0.011\n",
      "2012-08-12    0.011\n",
      "2014-08-29    0.010\n",
      "1934-02-02    0.010\n",
      "1970-09-01    0.010\n",
      "              ...  \n",
      "1963-10-13    0.001\n",
      "1980-02-16    0.001\n",
      "1958-06-01    0.001\n",
      "1989-03-09    0.001\n",
      "1994-10-11    0.001\n",
      "Name: date_of_birth, Length: 34135, dtype: float64\n",
      "success\n",
      "M    50.208\n",
      "F    49.792\n",
      "Name: gender, dtype: float64\n",
      "success\n",
      "should, across, threat          0.002\n",
      "man, prove, make                0.002\n",
      "account, second, yes            0.002\n",
      "doctor, someone, keep           0.002\n",
      "break, mention, need            0.002\n",
      "                                ...  \n",
      "election, who, growth           0.001\n",
      "talk, white, involve            0.001\n",
      "modern, tell, in                0.001\n",
      "detail, office, fear            0.001\n",
      "Democrat, single, themselves    0.001\n",
      "Name: medical_conditions, Length: 99995, dtype: float64\n",
      "success\n",
      "brother, building, understand     0.002\n",
      "million, social, just             0.002\n",
      "fly, Mrs, claim                   0.002\n",
      "hot, population, year             0.002\n",
      "state, eye, firm                  0.002\n",
      "                                  ...  \n",
      "life, shake, into                 0.001\n",
      "plan, increase, treat             0.001\n",
      "arrive, newspaper, piece          0.001\n",
      "yeah, church, others              0.001\n",
      "responsibility, source, better    0.001\n",
      "Name: medications, Length: 99992, dtype: float64\n",
      "success\n",
      "arrive, nature, pass        0.002\n",
      "nice, company, reason       0.002\n",
      "watch, TV, agree            0.002\n",
      "analysis, join, evidence    0.002\n",
      "each, product, two          0.001\n",
      "                            ...  \n",
      "his, computer, stock        0.001\n",
      "market, paper, growth       0.001\n",
      "probably, fall, subject     0.001\n",
      "trouble, newspaper, none    0.001\n",
      "book, thousand, southern    0.001\n",
      "Name: allergies, Length: 99996, dtype: float64\n",
      "success\n",
      "2022-07-22    0.180\n",
      "2021-05-30    0.173\n",
      "2021-04-20    0.170\n",
      "2021-06-23    0.170\n",
      "2021-03-28    0.168\n",
      "              ...  \n",
      "2021-04-03    0.106\n",
      "2022-04-21    0.105\n",
      "2021-08-08    0.105\n",
      "2021-05-01    0.102\n",
      "2021-08-22    0.100\n",
      "Name: last_appointment_date, Length: 731, dtype: float64\n",
      "success\n"
     ]
    }
   ],
   "source": [
    "for column in numerical_features:\n",
    "    print(df[column].value_counts(normalize=True)*100)\n",
    "    print('success')"
   ]
  },
  {
   "cell_type": "code",
   "execution_count": null,
   "id": "c664f558",
   "metadata": {},
   "outputs": [],
   "source": [
    "#plt.figure(figsize=(15,15))\n",
    "#plt.suptitle('unvariant', fontsize=20, fontweight='bold',alpha=0.8,y=1)\n",
    "#for i in range(0,len(numerical_features)):\n",
    " #   plt.subplot(5,3,i+1)\n",
    "  #  sns.kdeplot(x=df[numerical_features[i]],shade=True,color='b')\n",
    "   # plt.xlabel(numerical_features[i])\n",
    "    #plt.tight_layout()"
   ]
  },
  {
   "cell_type": "code",
   "execution_count": null,
   "id": "a7996de8",
   "metadata": {},
   "outputs": [
    {
     "data": {
      "text/plain": [
       "<Axes: >"
      ]
     },
     "execution_count": 83,
     "metadata": {},
     "output_type": "execute_result"
    },
    {
     "data": {
      "image/png": "[encoded data removed]",
      "text/plain": [
       "<Figure size 640x480 with 1 Axes>"
      ]
     },
     "metadata": {},
     "output_type": "display_data"
    }
   ],
   "source": [
    "sns.boxplot(df['patient_id'])"
   ]
  },
  {
   "cell_type": "code",
   "execution_count": null,
   "id": "4b5bdc9c",
   "metadata": {},
   "outputs": [
    {
     "data": {
      "text/html": [
       "<div>\n",
       "<style scoped>\n",
       "    .dataframe tbody tr th:only-of-type {\n",
       "        vertical-align: middle;\n",
       "    }\n",
       "\n",
       "    .dataframe tbody tr th {\n",
       "        vertical-align: top;\n",
       "    }\n",
       "\n",
       "    .dataframe thead th {\n",
       "        text-align: right;\n",
       "    }\n",
       "</style>\n",
       "<table border=\"1\" class=\"dataframe\">\n",
       "  <thead>\n",
       "    <tr style=\"text-align: right;\">\n",
       "      <th></th>\n",
       "      <th>patient_id</th>\n",
       "    </tr>\n",
       "  </thead>\n",
       "  <tbody>\n",
       "    <tr>\n",
       "      <th>patient_id</th>\n",
       "      <td>1.0</td>\n",
       "    </tr>\n",
       "  </tbody>\n",
       "</table>\n",
       "</div>"
      ],
      "text/plain": [
       "            patient_id\n",
       "patient_id         1.0"
      ]
     },
     "execution_count": 90,
     "metadata": {},
     "output_type": "execute_result"
    }
   ],
   "source": [
    "#df[(list(df.Column)[1:])].corr()\n",
    "df.corr()"
   ]
  },
  {
   "cell_type": "code",
   "execution_count": null,
   "id": "27d66ce9",
   "metadata": {},
   "outputs": [
    {
     "data": {
      "image/png": "[encoded data removed]",
      "text/plain": [
       "<Figure size 1500x1000 with 2 Axes>"
      ]
     },
     "metadata": {},
     "output_type": "display_data"
    }
   ],
   "source": [
    "plt.figure(figsize=(15,10))\n",
    "sns.heatmap(df.corr(),cmap=\"CMRmap\",annot=True)\n",
    "plt.show()"
   ]
  }
 ],
 "metadata": {
  "kernelspec": {
   "display_name": "Python 3 (ipykernel)",
   "language": "python",
   "name": "python3"
  },
  "language_info": {
   "codemirror_mode": {
    "name": "ipython",
    "version": 3
   },
   "file_extension": ".py",
   "mimetype": "text/x-python",
   "name": "python",
   "nbconvert_exporter": "python",
   "pygments_lexer": "ipython3",
   "version": "3.9.17"
  }
 },
 "nbformat": 4,
 "nbformat_minor": 5
}
